{
  "nbformat": 4,
  "nbformat_minor": 0,
  "metadata": {
    "colab": {
      "name": "Training Tokenizers.ipynb",
      "provenance": []
    },
    "kernelspec": {
      "name": "python3",
      "display_name": "Python 3"
    },
    "accelerator": "GPU"
  },
  "cells": [
    {
      "cell_type": "markdown",
      "metadata": {
        "pycharm": {
          "is_executing": false,
          "name": "#%% md\n"
        },
        "id": "gXPVjmkTcZa7",
        "colab_type": "text"
      },
      "source": [
        "### Subtoken Tokenization\n",
        "**Subtokens** extends the splitting strategy to furthermore explode a word into grammatically logicial sub-components learned\n",
        "from the data.\n",
        "\n",
        "Taking an example of the words __cat__ and __cats__, a sub-tokenization of the word __cats__ would be [cat, ##s]. Where the prefix _\"##\"_ indicates a subtoken of the initial input. \n",
        "Such training algorithms might extract sub-tokens such as _\"##ing\"_, _\"##ed\"_ over English corpus.\n",
        "\n",
        "As you might think of, this kind of sub-tokens construction leveraging compositions of _\"pieces\"_ overall reduces the size\n",
        "of the vocabulary you have to carry to train a Machine Learning model. On the other side, as one token might be exploded\n",
        "into multiple subtokens, the input of your model might increase and become an issue on model with non-linear complexity over the input sequence's length. \n",
        " \n",
        "![subtokenization](https://nlp.fast.ai/images/multifit_vocabularies.png)\n",
        " \n",
        "Among all the tokenization algorithms, we can highlight a few subtokens algorithms used in Transformers-based SoTA models : \n",
        "\n",
        "- [Byte Pair Encoding (BPE) - Neural Machine Translation of Rare Words with Subword Units (Sennrich et al., 2015)](https://arxiv.org/abs/1508.07909)\n",
        "- [Word Piece - Japanese and Korean voice search (Schuster, M., and Nakajima, K., 2015)](https://research.google/pubs/pub37842/)\n",
        "- [Unigram Language Model - Subword Regularization: Improving Neural Network Translation Models with Multiple Subword Candidates (Kudo, T., 2018)](https://arxiv.org/abs/1804.10959)\n",
        "- [Sentence Piece - A simple and language independent subword tokenizer and detokenizer for Neural Text Processing (Taku Kudo and John Richardson, 2018)](https://arxiv.org/abs/1808.06226)\n",
        "\n",
        "Going through all of them is out of the scope of this notebook, so we will just highlight how you can use them.\n",
        "\n",
        "\n",
        "\n",
        "- **Normalizer**: Executes all the initial transformations over the initial input string. For example when you need to\n",
        "lowercase some text, maybe strip it, or even apply one of the common unicode normalization process, you will add a Normalizer. \n",
        "- **PreTokenizer**: In charge of splitting the initial input string. That's the component that decides where and how to\n",
        "pre-segment the origin string. The simplest example would be like we saw before, to simply split on spaces.\n",
        "- **Model**: Handles all the sub-token discovery and generation, this part is trainable and really dependant\n",
        " of your input data.\n",
        "- **Post-Processor**: Provides advanced construction features to be compatible with some of the Transformers-based SoTA\n",
        "models. For instance, for BERT it would wrap the tokenized sentence around [CLS] and [SEP] tokens.\n",
        "- **Decoder**: In charge of mapping back a tokenized input to the original string. The decoder is usually chosen according\n",
        "to the `PreTokenizer` we used previously.\n",
        "- **Trainer**: Provides training capabilities to each model.\n",
        "\n",
        "For each of the components above we provide multiple implementations:\n",
        "\n",
        "- **Normalizer**: Lowercase, Unicode (NFD, NFKD, NFC, NFKC), Bert, Strip, ...\n",
        "- **PreTokenizer**: ByteLevel, WhitespaceSplit, CharDelimiterSplit, Metaspace, ...\n",
        "- **Model**: WordLevel, BPE, WordPiece\n",
        "- **Post-Processor**: BertProcessor, ...\n",
        "- **Decoder**: WordLevel, BPE, WordPiece, ...\n",
        "\n",
        "All of these building blocks can be combined to create working tokenization pipelines. \n",
        "In the next section we will go over our first pipeline."
      ]
    },
    {
      "cell_type": "markdown",
      "metadata": {
        "pycharm": {
          "name": "#%% md\n"
        },
        "id": "8ls_x8GfcZa9",
        "colab_type": "text"
      },
      "source": [
        "Alright, now we are ready to implement our first tokenization pipeline through `tokenizers`. \n",
        "\n",
        "For this, we will train a Byte-Pair Encoding (BPE) tokenizer on a quite small input for the purpose of this notebook.\n",
        "We will work with [the file from Peter Norving](https://www.google.com/url?sa=t&rct=j&q=&esrc=s&source=web&cd=1&cad=rja&uact=8&ved=2ahUKEwjYp9Ppru_nAhUBzIUKHfbUAG8QFjAAegQIBhAB&url=https%3A%2F%2Fnorvig.com%2Fbig.txt&usg=AOvVaw2ed9iwhcP1RKUiEROs15Dz).\n",
        "This file contains around 130.000 lines of raw text that will be processed by the library to generate a working tokenizer.\n"
      ]
    },
    {
      "cell_type": "code",
      "metadata": {
        "pycharm": {
          "is_executing": false,
          "name": "#%% code\n"
        },
        "id": "42je1FKvcZa9",
        "colab_type": "code",
        "colab": {
          "base_uri": "https://localhost:8080/",
          "height": 102
        },
        "outputId": "53a2ae44-4632-41d9-9577-170689ac8cc0"
      },
      "source": [
        "!pip install tokenizers"
      ],
      "execution_count": 1,
      "outputs": [
        {
          "output_type": "stream",
          "text": [
            "Collecting tokenizers\n",
            "\u001b[?25l  Downloading https://files.pythonhosted.org/packages/14/e5/a26eb4716523808bb0a799fcfdceb6ebf77a18169d9591b2f46a9adb87d9/tokenizers-0.7.0-cp36-cp36m-manylinux1_x86_64.whl (3.8MB)\n",
            "\u001b[K     |████████████████████████████████| 3.8MB 22.7MB/s \n",
            "\u001b[?25hInstalling collected packages: tokenizers\n",
            "Successfully installed tokenizers-0.7.0\n"
          ],
          "name": "stdout"
        }
      ]
    },
    {
      "cell_type": "code",
      "metadata": {
        "pycharm": {
          "is_executing": false,
          "name": "#%% code\n"
        },
        "id": "G0nSOAq3cZbC",
        "colab_type": "code",
        "colab": {}
      },
      "source": [
        "BIG_FILE_URL = 'https://raw.githubusercontent.com/dscape/spell/master/test/resources/big.txt'\n",
        "\n",
        "# Let's download the file and save it somewhere\n",
        "from requests import get\n",
        "with open('big.txt', 'wb') as big_f:\n",
        "    response = get(BIG_FILE_URL, )\n",
        "    \n",
        "    if response.status_code == 200:\n",
        "        big_f.write(response.content)\n",
        "    else:\n",
        "        print(\"Unable to get the file: {}\".format(response.reason))\n"
      ],
      "execution_count": 0,
      "outputs": []
    },
    {
      "cell_type": "markdown",
      "metadata": {
        "pycharm": {
          "is_executing": false,
          "name": "#%% md\n"
        },
        "id": "3Hh3wnWwcZbF",
        "colab_type": "text"
      },
      "source": [
        " \n",
        "Now that we have our training data we need to create the overall pipeline for the tokenizer\n",
        " "
      ]
    },
    {
      "cell_type": "code",
      "metadata": {
        "pycharm": {
          "is_executing": false,
          "name": "#%% code\n"
        },
        "id": "6nnfq6_ocZbG",
        "colab_type": "code",
        "colab": {}
      },
      "source": [
        "# For the user's convenience `tokenizers` provides some very high-level classes encapsulating\n",
        "# the overall pipeline for various well-known tokenization algorithm. \n",
        "# Everything described below can be replaced by the ByteLevelBPETokenizer class. \n",
        "\n",
        "from tokenizers import Tokenizer\n",
        "from tokenizers.decoders import ByteLevel as ByteLevelDecoder\n",
        "from tokenizers.models import BPE\n",
        "from tokenizers.normalizers import Lowercase, NFKC, Sequence\n",
        "from tokenizers.pre_tokenizers import ByteLevel\n",
        "\n",
        "# First we create an empty Byte-Pair Encoding model (i.e. not trained model)\n",
        "tokenizer = Tokenizer(BPE())\n",
        "\n",
        "# Then we enable lower-casing and unicode-normalization\n",
        "# The Sequence normalizer allows us to combine multiple Normalizer that will be\n",
        "# executed in order.\n",
        "tokenizer.normalizer = Sequence([\n",
        "    NFKC(),\n",
        "    Lowercase()\n",
        "])\n",
        "\n",
        "# Our tokenizer also needs a pre-tokenizer responsible for converting the input to a ByteLevel representation.\n",
        "tokenizer.pre_tokenizer = ByteLevel()\n",
        "\n",
        "# And finally, let's plug a decoder so we can recover from a tokenized input to the original one\n",
        "tokenizer.decoder = ByteLevelDecoder()"
      ],
      "execution_count": 0,
      "outputs": []
    },
    {
      "cell_type": "markdown",
      "metadata": {
        "pycharm": {
          "name": "#%% md\n"
        },
        "id": "mAowVA7FcZbJ",
        "colab_type": "text"
      },
      "source": [
        "The overall pipeline is now ready to be trained on the corpus we downloaded earlier in this notebook."
      ]
    },
    {
      "cell_type": "code",
      "metadata": {
        "pycharm": {
          "is_executing": false,
          "name": "#%% code\n"
        },
        "id": "4W1jT-zicZbJ",
        "colab_type": "code",
        "outputId": "ebc60137-8418-4aa4-c57e-4a859b839c18",
        "colab": {
          "base_uri": "https://localhost:8080/",
          "height": 34
        }
      },
      "source": [
        "from tokenizers.trainers import BpeTrainer\n",
        "\n",
        "# We initialize our trainer, giving him the details about the vocabulary we want to generate\n",
        "trainer = BpeTrainer(vocab_size=25000, show_progress=True, initial_alphabet=ByteLevel.alphabet())\n",
        "tokenizer.train(trainer, [\"big.txt\"])\n",
        "\n",
        "print(\"Trained vocab size: {}\".format(tokenizer.get_vocab_size()))"
      ],
      "execution_count": 4,
      "outputs": [
        {
          "output_type": "stream",
          "text": [
            "Trained vocab size: 25000\n"
          ],
          "name": "stdout"
        }
      ]
    },
    {
      "cell_type": "markdown",
      "metadata": {
        "pycharm": {
          "name": "#%% md\n"
        },
        "id": "ZHNGSVnzcZbO",
        "colab_type": "text"
      },
      "source": [
        "We can save the content of the model to reuse it later."
      ]
    },
    {
      "cell_type": "code",
      "metadata": {
        "pycharm": {
          "is_executing": false,
          "name": "#%% code\n"
        },
        "id": "DFjdIy_gcZbP",
        "colab_type": "code",
        "outputId": "50d2e19e-327c-45b8-8a72-15fd2d0df8c8",
        "colab": {
          "base_uri": "https://localhost:8080/",
          "height": 34
        }
      },
      "source": [
        "# You will see the generated files in the output.\n",
        "tokenizer.model.save('.')"
      ],
      "execution_count": 5,
      "outputs": [
        {
          "output_type": "execute_result",
          "data": {
            "text/plain": [
              "['./vocab.json', './merges.txt']"
            ]
          },
          "metadata": {
            "tags": []
          },
          "execution_count": 5
        }
      ]
    },
    {
      "cell_type": "markdown",
      "metadata": {
        "pycharm": {
          "name": "#%% md\n"
        },
        "id": "dTkK8XBfcZbS",
        "colab_type": "text"
      },
      "source": [
        "Now, let load the trained model and start using out newly trained tokenizer"
      ]
    },
    {
      "cell_type": "code",
      "metadata": {
        "pycharm": {
          "is_executing": false,
          "name": "#%% code\n"
        },
        "id": "RSMPHlH-cZbT",
        "colab_type": "code",
        "outputId": "5234d3f4-1484-49f8-fa09-bb02434883e9",
        "colab": {
          "base_uri": "https://localhost:8080/",
          "height": 51
        }
      },
      "source": [
        "# Let's tokenizer a simple input\n",
        "tokenizer.model = BPE('vocab.json', 'merges.txt')\n",
        "encoding = tokenizer.encode(\"This is a simple input to be tokenized\")\n",
        "\n",
        "print(\"Encoded string: {}\".format(encoding.tokens))\n",
        "\n",
        "decoded = tokenizer.decode(encoding.ids)\n",
        "print(\"Decoded string: {}\".format(decoded))"
      ],
      "execution_count": 6,
      "outputs": [
        {
          "output_type": "stream",
          "text": [
            "Encoded string: ['Ġthis', 'Ġis', 'Ġa', 'Ġsimple', 'Ġin', 'put', 'Ġto', 'Ġbe', 'Ġtoken', 'ized']\n",
            "Decoded string:  this is a simple input to be tokenized\n"
          ],
          "name": "stdout"
        }
      ]
    },
    {
      "cell_type": "markdown",
      "metadata": {
        "pycharm": {
          "name": "#%% md\n"
        },
        "id": "4-53-QkLcZbW",
        "colab_type": "text"
      },
      "source": [
        "The Encoding structure exposes multiple properties which are useful when working with transformers models\n",
        "\n",
        "- normalized_str: The input string after normalization (lower-casing, unicode, stripping, etc.)\n",
        "- original_str: The input string as it was provided\n",
        "- tokens: The generated tokens with their string representation\n",
        "- input_ids: The generated tokens with their integer representation\n",
        "- attention_mask: If your input has been padded by the tokenizer, then this would be a vector of 1 for any non padded token and 0 for padded ones.\n",
        "- special_token_mask: If your input contains special tokens such as [CLS], [SEP], [MASK], [PAD], then this would be a vector with 1 in places where a special token has been added.\n",
        "- type_ids: If your input was made of multiple \"parts\" such as (question, context), then this would be a vector with for each token the segment it belongs to.\n",
        "- overflowing: If your input has been truncated into multiple subparts because of a length limit (for BERT for example the sequence length is limited to 512), this will contain all the remaining overflowing parts."
      ]
    }
  ]
}